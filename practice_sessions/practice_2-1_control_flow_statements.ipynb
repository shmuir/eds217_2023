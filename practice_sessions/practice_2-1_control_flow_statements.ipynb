{
 "cells": [
  {
   "cell_type": "markdown",
   "metadata": {},
   "source": [
    "| [⬅️ Previous Session](practice_1-2_lists.ipynb) | [🏠 Course Home](../index.ipynb) | [➡️ Next Session](practice_2-2_structured_data.ipynb) |\n",
    "\n",
    "# Practice 2-1: Control Flow Statements\n",
    "\n",
    "![control.jpeg](assets/control.jpeg)\n",
    "\n",
    "<hr style=\"border-top: 1px solid gray; margin-top: 24px; margin-bottom: 1px\"></hr>"
   ]
  },
  {
   "cell_type": "markdown",
   "metadata": {},
   "source": [
    "\n",
    "## 📚  Practice 1\n",
    "\n",
    "In programs, <code>if</code> statements are useful for catching errors due to user input. \n",
    "\n",
    "Define two new variables based on user input: the first prompting for a temperature value and the second prompting for the units as \"F\" or \"C\". \n",
    "\n",
    "Using the equation below, write an <code>if</code> statement that converts the temperature input to °C if it was given in °F or to °F if given in °C. Recall that all variables assigned based on user input are strings. Be sure to comment your code.\n",
    "    \n",
    "Formula for conversion between °F and °C:\n",
    "    $$T_{^{\\circ} C} = (T_{^{\\circ} F} - 32) \\times 5/9$$\n"
   ]
  },
  {
   "cell_type": "markdown",
   "metadata": {},
   "source": [
    "Describe your strategy here:\n"
   ]
  },
  {
   "cell_type": "code",
   "execution_count": 10,
   "metadata": {},
   "outputs": [
    {
     "name": "stdout",
     "output_type": "stream",
     "text": [
      "113.0\n"
     ]
    }
   ],
   "source": [
    "# Add your code here:\n",
    "units = input(\"Please input C or F\")\n",
    "temp = input(\"Please enter temperature value\")\n",
    "temp = float(temp)\n",
    "\n",
    "if units == 'F':\n",
    "    print((temp - 32) * (5 / 9))\n",
    "elif units == 'C':\n",
    "    print((temp * (9 / 5)) + 32 )\n",
    "else:\n",
    "    print(\"Please enter valid temperature specifying C or F.\")"
   ]
  },
  {
   "cell_type": "markdown",
   "metadata": {},
   "source": [
    "## 📚  Practice 2. \n",
    "\n",
    "Using nested <code>if</code> statements and your code from Practice question #1, convert the user input temperature to the opposite units (°F to °C or vice versa), print a statement to the user that reports the temperature in the converted units and indicates whether or not the temperature below freezing. \n",
    "\n",
    "Your print statement should look something like:\n",
    "\n",
    "<code>The temperature is {__}°C/F. It is (not) below freezing.</code>\n",
    "\n"
   ]
  },
  {
   "cell_type": "markdown",
   "metadata": {},
   "source": [
    "Describe your strategy here:\n"
   ]
  },
  {
   "cell_type": "code",
   "execution_count": 1,
   "metadata": {},
   "outputs": [
    {
     "name": "stdout",
     "output_type": "stream",
     "text": [
      "The temperature 93.2ºF is not below freezing.\n"
     ]
    }
   ],
   "source": [
    "# Add your code here:\n",
    "units = input(\"Enter C or F\")\n",
    "temp = input(\"Enter temperature value\")\n",
    "temp = float(temp)\n",
    "\n",
    "if units == 'F':\n",
    "    temp_c = (temp - 32) * (5 / 9)\n",
    "    if temp_c <= 0:\n",
    "        print(f\"The temperature {temp_c}ºC is at or below freezing.\")\n",
    "    else:\n",
    "        print(f\"The temperature {temp_c}ºC is not below freezing.\")\n",
    "elif units == 'C':\n",
    "    temp_f = (temp * (9 / 5)) + 32 \n",
    "    if temp_f <= 32:\n",
    "        print(f\"The temperature {temp_f}ºF is at or below freezing.\")\n",
    "    else:\n",
    "        print(f\"The temperature {temp_f}ºF is not below freezing.\")\n",
    "else:\n",
    "    print(\"Please enter valid temperature specifying C or F.\")"
   ]
  },
  {
   "cell_type": "markdown",
   "metadata": {},
   "source": [
    "## 📚  <b> Practice 3. </b> \n",
    "\n",
    "1. Create a list of the six organic elements sorted in alphabetical order and then print each element in the list.\n",
    "\n",
    "Given your sorted <code>org_elements</code> list and the corresponding list of atomic masses given in the cell below, use <code>enumerate()</code> in a <code>for</code> loop to print a formatted statement that expresses the atomic mass of of each element. \n",
    "\n",
    "Your formatted print statement should include the name of the element, the atomic mass rounded to 2 decimal places, and units.\n",
    "\n"
   ]
  },
  {
   "cell_type": "markdown",
   "metadata": {},
   "source": [
    "Describe your strategy here:\n",
    "\n"
   ]
  },
  {
   "cell_type": "code",
   "execution_count": 159,
   "metadata": {},
   "outputs": [
    {
     "name": "stdout",
     "output_type": "stream",
     "text": [
      "The atomic mass of C is 12.011 g/mol.\n",
      "The atomic mass of H is 1.00784 g/mol.\n",
      "The atomic mass of N is 14.0067 g/mol.\n",
      "The atomic mass of O is 15.999 g/mol.\n",
      "The atomic mass of P is 30.97376 g/mol.\n",
      "The atomic mass of S is 32.065 g/mol.\n"
     ]
    }
   ],
   "source": [
    "atomic_mass = [12.011, 1.00784, 14.0067, 15.999, 30.97376, 32.065]  # g/mol\n",
    "org_elements = ['C', 'H', 'N', 'O', 'P', 'S']\n",
    "\n",
    "for atomic_mass, org_elements in zip(atomic_mass, org_elements):\n",
    "    print(\"The atomic mass of \" + org_elements + (f\" is {atomic_mass} g/mol.\"))"
   ]
  },
  {
   "cell_type": "markdown",
   "metadata": {},
   "source": [
    "## 📚  <b> Practice 4. </b> \n",
    "The cell below contains monthly global land-ocean surface temperature in °F for each month during the years 2015-2021. \n",
    "\n",
    "Using  <code>enumerate()</code>, <code>zip()</code>, a nested <code>for</code> loop, or some combination of the three:\n",
    "\n",
    "<ol class=\"alpha\">\n",
    "<li> Calculate the monthly global land-ocean surface temperature anomalies (deviation from the mean) in °C for 2015-2021. The mean global land-ocean surface temperature calculated over the 20th century was 15.6°C.</li>\n",
    "<li> Create a new list with the mean monthly global surface temperature anomalies in °C for 2015-2021 (i.e. calculate the mean temperature anomaly for each month and put these values in a list). Use the command <code>np.mean()</code> to calculate mean values. </li> \n",
    "<li> Print each monthly mean value with the name of the month and units. </li>\n",
    "</ol>\n",
    "</div>"
   ]
  },
  {
   "cell_type": "code",
   "execution_count": 3,
   "metadata": {},
   "outputs": [],
   "source": [
    "# Import numpy for mean calculations\n",
    "import numpy as np\n",
    "\n",
    "tempF_2015 = [61.628, 61.7, 61.808, 61.448, 61.52, 61.538, 61.394, 61.52, 61.61, 62.042, 61.988, 62.168]\n",
    "tempF_2016 = [62.186, 62.546, 62.528, 62.06, 61.79, 61.52, 61.61, 61.916, 61.718, 61.682, 61.736, 61.628]\n",
    "tempF_2017 = [61.916, 62.132, 62.168, 61.772, 61.718, 61.376, 61.556, 61.646, 61.466, 61.7, 61.664, 61.754]\n",
    "tempF_2018 = [61.556, 61.61, 61.664, 61.682, 61.556, 61.466, 61.556, 61.448, 61.52, 61.916, 61.556, 61.718]\n",
    "tempF_2019 = [61.754, 61.79, 62.186, 61.898, 61.61, 61.7, 61.772, 61.79, 61.754, 61.898, 61.862, 62.042]\n",
    "tempF_2020 = [62.186, 62.312, 62.186, 62.114, 61.898, 61.736, 61.7, 61.646, 61.862, 61.664, 62.06, 61.538]\n",
    "tempF_2021 = [61.538, 61.232, 61.664, 61.43, 61.484, 61.592, 61.736, 61.556, 61.736, 61.88, 61.772, 61.61]\n",
    "\n",
    "# List of yearly lists (may or may not be useful)\n",
    "tempF_list = [tempF_2015, tempF_2016, tempF_2017, tempF_2018, tempF_2019, tempF_2020, tempF_2021]\n",
    "\n",
    "# List of years (probably useful)\n",
    "years = [2015, 2016, 2017, 2018, 2019, 2020, 2021]"
   ]
  },
  {
   "cell_type": "markdown",
   "metadata": {},
   "source": [
    "Describe your strategy here:\n",
    "\n"
   ]
  },
  {
   "cell_type": "code",
   "execution_count": 9,
   "metadata": {},
   "outputs": [
    {
     "name": "stdout",
     "output_type": "stream",
     "text": [
      "2015 deviations from mean: [0.8600000000000012, 0.9000000000000039, 0.9600000000000026, 0.7599999999999998, 0.8000000000000025, 0.8100000000000005, 0.7299999999999986, 0.8000000000000025, 0.8499999999999996, 1.0900000000000016, 1.0600000000000005, 1.160000000000002]\n",
      "2016 deviations from mean: [1.17, 1.3699999999999992, 1.3600000000000012, 1.1000000000000032, 0.9500000000000011, 0.8000000000000025, 0.8499999999999996, 1.0199999999999978, 0.9100000000000019, 0.8900000000000023, 0.9199999999999999, 0.8600000000000012]\n",
      "2017 deviations from mean: [1.0199999999999978, 1.1399999999999988, 1.160000000000002, 0.9399999999999995, 0.9100000000000019, 0.7200000000000006, 0.8199999999999985, 0.8700000000000028, 0.7700000000000014, 0.9000000000000039, 0.8800000000000008, 0.9300000000000015]\n",
      "2018 deviations from mean: [0.8199999999999985, 0.8499999999999996, 0.8800000000000008, 0.8900000000000023, 0.8199999999999985, 0.7700000000000014, 0.8199999999999985, 0.7599999999999998, 0.8000000000000025, 1.0199999999999978, 0.8199999999999985, 0.9100000000000019]\n",
      "2019 deviations from mean: [0.9300000000000015, 0.9500000000000011, 1.17, 1.0100000000000033, 0.8499999999999996, 0.9000000000000039, 0.9399999999999995, 0.9500000000000011, 0.9300000000000015, 1.0100000000000033, 0.9900000000000038, 1.0900000000000016]\n",
      "2020 deviations from mean: [1.17, 1.2400000000000002, 1.17, 1.1300000000000008, 1.0100000000000033, 0.9199999999999999, 0.9000000000000039, 0.8700000000000028, 0.9900000000000038, 0.8800000000000008, 1.1000000000000032, 0.8100000000000005]\n",
      "2021 deviations from mean: [0.8100000000000005, 0.6400000000000023, 0.8800000000000008, 0.7500000000000018, 0.7800000000000029, 0.8400000000000016, 0.9199999999999999, 0.8199999999999985, 0.9199999999999999, 1.0000000000000018, 0.9399999999999995, 0.8499999999999996]\n"
     ]
    }
   ],
   "source": [
    "#tempC_list = []\n",
    "devC_list = []\n",
    "\n",
    "for tempsF,year in zip(tempF_list,years):\n",
    "    #tempsC = []\n",
    "    devsC = []\n",
    "    for tempF in tempsF:\n",
    "        tempC = (tempF - 32.0) * (5/9)\n",
    "       #tempsC.append(tempC)\n",
    "        devsC.append(tempC - 15.6)\n",
    "    #tempC_list.append(tempsC)\n",
    "    devC_list.append(devsC)\n",
    "\n",
    "for dev_list,year in zip(devC_list,years):\n",
    "    print(f\"{year} deviations from mean: {dev_list}\")\n"
   ]
  },
  {
   "cell_type": "code",
   "execution_count": 5,
   "metadata": {},
   "outputs": [
    {
     "name": "stdout",
     "output_type": "stream",
     "text": [
      "[0.9685714285714315, 1.0128571428571451, 1.0828571428571419, 0.9399999999999995, 0.8742857142857172, 0.8228571428571438, 0.8542857142857105, 0.8700000000000028, 0.881428571428577, 0.9700000000000006, 0.95857142857143, 0.944285714285714]\n"
     ]
    }
   ],
   "source": [
    "avg_month_F = []\n",
    "avg_month_C = []\n",
    "avg_month_anom = []\n",
    "\n",
    "for i in zip(tempF_2015, tempF_2016, tempF_2017, tempF_2018, tempF_2019, tempF_2020, tempF_2021):\n",
    "    avg_F = np.mean(i)\n",
    "    avg_month_F.append(avg_F)\n",
    "    avg_month_C.append((avg_F - 32)*(5/9))\n",
    "    avg_month_anom.append((avg_F - 32)*(5/9)-15.6)\n",
    "print(avg_month_anom)"
   ]
  },
  {
   "cell_type": "code",
   "execution_count": 7,
   "metadata": {},
   "outputs": [
    {
     "name": "stdout",
     "output_type": "stream",
     "text": [
      "[0.9685714285714285, 1.0128571428571436, 1.0828571428571439, 0.9400000000000015, 0.8742857142857157, 0.8228571428571444, 0.8542857142857141, 0.8700000000000008, 0.8814285714285729, 0.9700000000000016, 0.9585714285714294, 0.9442857142857155]\n"
     ]
    }
   ],
   "source": [
    "monthly_means = []\n",
    "\n",
    "for i, (devC_2015,devC_2016,devC_2017,devC_2018,devC_2019,devC_2020,devC_2021) in enumerate(zip(*devC_list)):\n",
    "    monthly = [devC_2015,devC_2016,devC_2017,devC_2018,devC_2019,devC_2020,devC_2021]\n",
    "    monthly_mean = np.mean(monthly)\n",
    "    monthly_means.append(monthly_mean)\n",
    "print(monthly_means)"
   ]
  },
  {
   "cell_type": "markdown",
   "metadata": {},
   "source": [
    "## 📚  Practice 5.\n",
    "\n",
    "Use a list comprehension to print a list of all months that had an anomaly above the average monthly anomaly.\n",
    "\n",
    "Some helpful code is provided below:\n",
    "```python\n",
    "months = ['January', 'February', 'March', 'April', 'May', 'June', 'July', 'August', 'September', 'October', 'November', 'December']\n",
    "\n",
    "average_anomaly = np.mean(mean_monthly_anomalies)\n",
    "\n",
    "```\n",
    "Recall that list comprehensions can contain <code>if</code> statements. For example:\n",
    "\n",
    "[<code>item</code> for <code>item</code> in <code>list</code> if <code>item</code> > <code>value</code>]\n",
    "\n",
    "And they can also contain enumerate statements:\n",
    "\n",
    "[<code>item</code> for <code>index,item</code> in <code>enumerate(list)</code> if <code>other_list[index]</code> > <code>value</code>]"
   ]
  },
  {
   "cell_type": "markdown",
   "metadata": {},
   "source": [
    "Describe your strategy here:\n",
    "\n"
   ]
  },
  {
   "cell_type": "code",
   "execution_count": 8,
   "metadata": {},
   "outputs": [
    {
     "name": "stdout",
     "output_type": "stream",
     "text": [
      "January\n",
      "February\n",
      "March\n",
      "April\n",
      "October\n",
      "November\n",
      "December\n"
     ]
    },
    {
     "data": {
      "text/plain": [
       "[None, None, None, None, None, None, None]"
      ]
     },
     "execution_count": 8,
     "metadata": {},
     "output_type": "execute_result"
    }
   ],
   "source": [
    "months = ['January', 'February', 'March', 'April', 'May', 'June', 'July', 'August', 'September', 'October', 'November', 'December']\n",
    "average_anomaly = np.mean(monthly_means)\n",
    "\n",
    "[print(month) for i,month in enumerate(months) \n",
    "    if monthly_means[i] > average_anomaly]\n"
   ]
  }
 ],
 "metadata": {
  "kernelspec": {
   "display_name": "eds217_2023",
   "language": "python",
   "name": "python3"
  },
  "language_info": {
   "codemirror_mode": {
    "name": "ipython",
    "version": 3
   },
   "file_extension": ".py",
   "mimetype": "text/x-python",
   "name": "python",
   "nbconvert_exporter": "python",
   "pygments_lexer": "ipython3",
   "version": "3.10.12"
  },
  "orig_nbformat": 4
 },
 "nbformat": 4,
 "nbformat_minor": 2
}
