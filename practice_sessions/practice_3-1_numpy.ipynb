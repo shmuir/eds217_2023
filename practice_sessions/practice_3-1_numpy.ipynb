{
 "cells": [
  {
   "cell_type": "markdown",
   "metadata": {},
   "source": [
    "| [⬅️ Previous Session](practice_2-2_structured_data.ipynb) | [🏠 Course Home](../index.ipynb) | [➡️ Next Session](practice_4-1_pandas.ipynb) |\n",
    "\n",
    "# Practice 3-1: Introduction to NumPy"
   ]
  },
  {
   "cell_type": "markdown",
   "metadata": {},
   "source": [
    "\n",
    "<div class=\"run\">\n",
    "    ▶️ <b> Run the cell below. </b>\n",
    "</div>\n"
   ]
  },
  {
   "cell_type": "code",
   "execution_count": 1,
   "metadata": {},
   "outputs": [],
   "source": [
    "# Imports\n",
    "import numpy as np"
   ]
  },
  {
   "cell_type": "markdown",
   "metadata": {},
   "source": [
    "\n",
    "## 📚  **Practice 1.**  \n",
    "Create the following arrays and assign the corresponding variable names:\n",
    "\n",
    "1. `a`  \n",
    "    $$\n",
    "    \\begin{bmatrix}\n",
    "        4 & 5 & 0 & 12 & -1 \\\\\n",
    "        8 & -21 & -4 & 6 & 3 \\\\\n",
    "        17 & 1 & -13 & 7 & 0\n",
    "    \\end{bmatrix}\n",
    "    $$\n",
    "\n",
    "2. `b`  \n",
    "    $$\n",
    "    \\begin{bmatrix}\n",
    "        1.0 & 2.7 & 0 & 0.188 & 4.07 & 0.24\n",
    "    \\end{bmatrix}\n",
    "    $$\n",
    "\n",
    "3. `c`  \n",
    "    $$\n",
    "    \\begin{bmatrix}\n",
    "        0.4 \\\\\n",
    "        0.8 \\\\\n",
    "        1.2 \\\\\n",
    "        1.6 \\\\\n",
    "        2.0 \\\\\n",
    "        2.4\n",
    "    \\end{bmatrix}\n",
    "    $$\n"
   ]
  },
  {
   "cell_type": "code",
   "execution_count": 3,
   "metadata": {},
   "outputs": [],
   "source": [
    "a = np.array([[4,5,0,12,-1],\n",
    "              [8,-21,-4,6,3],\n",
    "              [17,1,-13,7,0]])\n",
    "\n",
    "b = np.array([1.0,2.7,0,0.188,4.07,0.24])\n",
    "\n",
    "c = np.array([[0.4], [0.8], [1.2], [1.6], [2.0], [2.4]])"
   ]
  },
  {
   "cell_type": "markdown",
   "metadata": {},
   "source": [
    "## 📚  <b> Practice 2. </b> \n",
    "<ol class=\"alpha\">\n",
    "<li> Create a new array <code>d</code> of integers the multiples of 3 between 0 and 100.</li>\n",
    "<li> Create an array <code>f</code> 10 evenly spaced elements between 0 and 2.</li> \n",
    "<li> Re-create array <code>c</code> from Practice 1c using a function. Assign this to variable name <code>g</code>. </li>\n",
    "</ol>    "
   ]
  },
  {
   "cell_type": "code",
   "execution_count": 10,
   "metadata": {},
   "outputs": [
    {
     "name": "stdout",
     "output_type": "stream",
     "text": [
      "[ 0  3  6  9 12 15 18 21 24 27 30 33 36 39 42 45 48 51 54 57 60 63 66 69\n",
      " 72 75 78 81 84 87 90 93 96 99]\n",
      "[0.         0.22222222 0.44444444 0.66666667 0.88888889 1.11111111\n",
      " 1.33333333 1.55555556 1.77777778 2.        ]\n",
      "[[0.4]\n",
      " [0.8]\n",
      " [1.2]\n",
      " [1.6]\n",
      " [2. ]\n",
      " [2.4]]\n"
     ]
    }
   ],
   "source": [
    "d = np.arange(0,100,3)\n",
    "print(d)\n",
    "\n",
    "f = np.linspace(0,2,10)\n",
    "print(f)\n",
    "\n",
    "g = np.arange(0.4,2.5,0.4)\n",
    "g = g.reshape(6,1)\n",
    "print(g)"
   ]
  },
  {
   "cell_type": "markdown",
   "metadata": {},
   "source": [
    "## 📚  <b> Practice 3. </b> Assign the following to variables:\n",
    "<ol class=\"alpha\">\n",
    "    <li> A 5x3 array of ones. </li>\n",
    "    <li> A one-dimensional array of 6 zeros. </li> \n",
    "    <li> A 7x7 identity array. </li>\n",
    "    <li> A random 10x10 array. </li>\n",
    "</ol>"
   ]
  },
  {
   "cell_type": "code",
   "execution_count": 20,
   "metadata": {},
   "outputs": [
    {
     "name": "stdout",
     "output_type": "stream",
     "text": [
      "[[0. 0. 0.]\n",
      " [0. 0. 0.]\n",
      " [0. 0. 0.]\n",
      " [0. 0. 0.]\n",
      " [0. 0. 0.]]\n",
      "[[0.]\n",
      " [0.]\n",
      " [0.]\n",
      " [0.]\n",
      " [0.]\n",
      " [0.]]\n",
      "[[1. 0. 0. 0. 0. 0. 0.]\n",
      " [0. 1. 0. 0. 0. 0. 0.]\n",
      " [0. 0. 1. 0. 0. 0. 0.]\n",
      " [0. 0. 0. 1. 0. 0. 0.]\n",
      " [0. 0. 0. 0. 1. 0. 0.]\n",
      " [0. 0. 0. 0. 0. 1. 0.]\n",
      " [0. 0. 0. 0. 0. 0. 1.]]\n",
      "[[0.6743388  0.00491509 0.90551548 0.11018812 0.96273281 0.69474367\n",
      "  0.10787834 0.64855172 0.28312014 0.35545279]\n",
      " [0.55160816 0.29149216 0.19182444 0.00903207 0.63321848 0.48647211\n",
      "  0.33290625 0.55566613 0.57759087 0.02367231]\n",
      " [0.66358915 0.04064124 0.4623311  0.01502114 0.7246616  0.20681567\n",
      "  0.94837387 0.15054998 0.7868465  0.32848657]\n",
      " [0.60189772 0.88748945 0.16722239 0.59997338 0.77434019 0.98567461\n",
      "  0.33476019 0.18650199 0.70609244 0.97595952]\n",
      " [0.21618772 0.48363152 0.28637992 0.40535098 0.68232294 0.66553988\n",
      "  0.20817408 0.33237664 0.83647366 0.14256065]\n",
      " [0.10687846 0.80266227 0.25786371 0.47717703 0.04200694 0.35077321\n",
      "  0.6285747  0.48110411 0.5483659  0.0960694 ]\n",
      " [0.12863227 0.30288621 0.49641624 0.75450406 0.04460142 0.18383751\n",
      "  0.18855271 0.31535582 0.16356395 0.48767525]\n",
      " [0.1929011  0.338052   0.73931899 0.0966007  0.49575975 0.45840583\n",
      "  0.05954344 0.58931091 0.24932543 0.05969197]\n",
      " [0.52839038 0.22757635 0.45906138 0.78770554 0.61401296 0.76908145\n",
      "  0.19718973 0.91086963 0.43993556 0.21304096]\n",
      " [0.65604977 0.9509166  0.96686194 0.48106182 0.05798159 0.31279489\n",
      "  0.32272856 0.79612396 0.01260608 0.79247107]]\n"
     ]
    }
   ],
   "source": [
    "a3 = np.zeros([5,3])\n",
    "print(a3)\n",
    "\n",
    "b3 = np.zeros([6,1])\n",
    "print(b3)\n",
    "\n",
    "c3 = np.eye(7)\n",
    "print(c3)\n",
    "\n",
    "d3 = np.random.rand(10,10)\n",
    "print(d3)"
   ]
  },
  {
   "cell_type": "markdown",
   "metadata": {},
   "source": [
    "## 📚  <b> Practice 4. </b> \n",
    "Use array methods and the array you created in Practice 2a (<code>d</code>) to count the number of multiples of 3 between 0 and 100.\n"
   ]
  },
  {
   "cell_type": "code",
   "execution_count": null,
   "metadata": {},
   "outputs": [],
   "source": [
    "d = np.arange(0,101,3)\n",
    "print(d)\n",
    "\n",
    "d.size"
   ]
  },
  {
   "cell_type": "markdown",
   "metadata": {},
   "source": [
    "\n",
    "## 📚  <b> Practice 5. </b> Using the array you created in Practice 3d,\n",
    "<ol class=\"alpha\">\n",
    "    <li> Print all the elements in column 4. </li>\n",
    "    <li> Print all the elements in row 7. </li>\n",
    "    <li> Extract the 4x4 subarray at the center of the array and assign it as a new variable. </li>\n",
    "    <li> Print the last two values in column 10. </li>\n",
    "</ol>"
   ]
  },
  {
   "cell_type": "code",
   "execution_count": 21,
   "metadata": {},
   "outputs": [
    {
     "name": "stdout",
     "output_type": "stream",
     "text": [
      "[[0.59997338 0.77434019 0.98567461 0.33476019]\n",
      " [0.40535098 0.68232294 0.66553988 0.20817408]\n",
      " [0.47717703 0.04200694 0.35077321 0.6285747 ]\n",
      " [0.75450406 0.04460142 0.18383751 0.18855271]]\n"
     ]
    },
    {
     "data": {
      "text/plain": [
       "array([0.21304096, 0.79247107])"
      ]
     },
     "execution_count": 21,
     "metadata": {},
     "output_type": "execute_result"
    }
   ],
   "source": [
    "d3[:,3]\n",
    "d3[6]\n",
    "cen_array = d3[3:7, 3:7]\n",
    "print(cen_array)\n",
    "\n",
    "d3[8:10,9]"
   ]
  },
  {
   "cell_type": "markdown",
   "metadata": {},
   "source": [
    "## 📚  <b> Practice 6. </b> \n",
    "Create a blank 8x8 matrix and fill it with a checkerboard pattern of 0s and 1s using indexing.\n"
   ]
  },
  {
   "cell_type": "code",
   "execution_count": 22,
   "metadata": {},
   "outputs": [
    {
     "name": "stdout",
     "output_type": "stream",
     "text": [
      "[[0. 1. 0. 1. 0. 1. 0. 1.]\n",
      " [1. 0. 1. 0. 1. 0. 1. 0.]\n",
      " [0. 1. 0. 1. 0. 1. 0. 1.]\n",
      " [1. 0. 1. 0. 1. 0. 1. 0.]\n",
      " [0. 1. 0. 1. 0. 1. 0. 1.]\n",
      " [1. 0. 1. 0. 1. 0. 1. 0.]\n",
      " [0. 1. 0. 1. 0. 1. 0. 1.]\n",
      " [1. 0. 1. 0. 1. 0. 1. 0.]]\n"
     ]
    }
   ],
   "source": [
    "check = np.zeros((8,8))\n",
    "check[1::2,::2] = 1\n",
    "check[::2,1::2] = 1\n",
    "print(check)"
   ]
  },
  {
   "cell_type": "markdown",
   "metadata": {},
   "source": [
    "## 📚  <b> Practice 7. </b>\n",
    "<ol class=\"alpha\">\n",
    "    <li> Create a 3x3 matrix with values ranging from 0 to 8. </li>\n",
    "    <li> Reverse the order of elements in your random 10x10 array from 3d. </li>\n",
    "</ol>"
   ]
  },
  {
   "cell_type": "code",
   "execution_count": null,
   "metadata": {},
   "outputs": [],
   "source": [
    "g = np.array([[0,1,2],\n",
    "             [3,4,5],\n",
    "             [6,7,8]])\n",
    "g.transpose()\n",
    "\n",
    "np.flip(g)"
   ]
  },
  {
   "cell_type": "markdown",
   "metadata": {},
   "source": [
    "\n",
    "## 📚  <b> Practice 8. </b> \n",
    "Create two random 1-D arrays of length 10. Merge them into a 2x10 array and then a 10x2 array.\n"
   ]
  },
  {
   "cell_type": "code",
   "execution_count": 24,
   "metadata": {},
   "outputs": [
    {
     "name": "stdout",
     "output_type": "stream",
     "text": [
      "[[0.05151291 0.906862   0.22973608 0.03835174 0.01244717 0.30404495\n",
      "  0.58128786 0.22942198 0.92150486 0.13306884]\n",
      " [0.05640253 0.23520609 0.17782479 0.96264939 0.30006924 0.08266588\n",
      "  0.47145815 0.1778662  0.73034362 0.42603278]]\n",
      "[[0.05151291 0.05640253]\n",
      " [0.906862   0.23520609]\n",
      " [0.22973608 0.17782479]\n",
      " [0.03835174 0.96264939]\n",
      " [0.01244717 0.30006924]\n",
      " [0.30404495 0.08266588]\n",
      " [0.58128786 0.47145815]\n",
      " [0.22942198 0.1778662 ]\n",
      " [0.92150486 0.73034362]\n",
      " [0.13306884 0.42603278]]\n"
     ]
    }
   ],
   "source": [
    "s = np.random.rand(1,10)\n",
    "z = np.random.rand(1,10)\n",
    "\n",
    "print(np.concatenate((s,z)))\n",
    "t = np.concatenate((s.T,z.T), axis=1)\n",
    "print(t)"
   ]
  },
  {
   "cell_type": "markdown",
   "metadata": {},
   "source": [
    "\n",
    "## 📚  <b> Practice 9. </b>\n",
    "<ol class=\"alpha\">\n",
    "    <li> Split your random 10x10 array from 3d into two 10x5 arrays. </li>\n",
    "    <li> Combine the first 10x5 array from (a), the 10x2 array from 8b, and the other 10x5 array from (a). In other words, recombine the 10x10 array from 3d with two new columns in index positions 5 and 6. Your final array should have 10 rows and 12 columns. Verify this by printing the shape of the resulting array. </li>\n",
    "</ol>\n"
   ]
  },
  {
   "cell_type": "code",
   "execution_count": 25,
   "metadata": {},
   "outputs": [
    {
     "name": "stdout",
     "output_type": "stream",
     "text": [
      "(10, 12)\n"
     ]
    }
   ],
   "source": [
    "# Split into equal 10x5 arrays.\n",
    "x,y = np.hsplit(d3,[5])\n",
    "\n",
    "# Concatenate x, y, and t\n",
    "rand120 = np.concatenate((x,y,t), axis=1)\n",
    "\n",
    "# Print dimensions\n",
    "print(rand120.shape)"
   ]
  },
  {
   "cell_type": "markdown",
   "metadata": {},
   "source": [
    "\n",
    "## 📚  <b> Practice 10. </b>\n",
    "<ol class=\"alpha\">\n",
    "    <li> Raise array <code>b</code> to the power of array <code>c</code>. </li>\n",
    "    <li> Create a new 5x10 array of random values. Subtract the mean of each row from every value. </li>\n",
    "</ol>\n"
   ]
  },
  {
   "cell_type": "code",
   "execution_count": null,
   "metadata": {},
   "outputs": [],
   "source": [
    "a = np.array([[1.,2.,3.,4.],\n",
    "             [5.,6.,7.,8.]])\n",
    "\n",
    "b = np.array([10,11,12,13])\n",
    "\n",
    "c = np.array([[1.],\n",
    "             [20.]])"
   ]
  },
  {
   "cell_type": "code",
   "execution_count": 26,
   "metadata": {},
   "outputs": [
    {
     "name": "stdout",
     "output_type": "stream",
     "text": [
      "[[1.00000000e+01 1.10000000e+01 1.20000000e+01 1.30000000e+01]\n",
      " [1.00000000e+20 6.72749995e+20 3.83375999e+21 1.90049638e+22]]\n",
      "[[ 0.          0.27685413  0.33730952  0.15922715  0.24239614]\n",
      " [-0.27685413  0.          0.0604554  -0.11762697 -0.03445799]\n",
      " [-0.33730952 -0.0604554   0.         -0.17808237 -0.09491338]\n",
      " [-0.15922715  0.11762697  0.17808237  0.          0.08316899]\n",
      " [-0.24239614  0.03445799  0.09491338 -0.08316899  0.        ]]\n"
     ]
    }
   ],
   "source": [
    "print(b**c)\n",
    "\n",
    "m = np.random.rand(5,10)\n",
    "\n",
    "m = np.array([m.mean(axis=1)])\n",
    "\n",
    "l = m - m.T\n",
    "print(l)"
   ]
  },
  {
   "cell_type": "markdown",
   "metadata": {},
   "source": [
    "<hr style=\"border-top: 1px solid gray; margin-top: 24px; margin-bottom: 1px\"></hr>"
   ]
  }
 ],
 "metadata": {
  "kernelspec": {
   "display_name": "Python 3",
   "language": "python",
   "name": "python3"
  },
  "language_info": {
   "codemirror_mode": {
    "name": "ipython",
    "version": 3
   },
   "file_extension": ".py",
   "mimetype": "text/x-python",
   "name": "python",
   "nbconvert_exporter": "python",
   "pygments_lexer": "ipython3",
   "version": "3.10.12"
  }
 },
 "nbformat": 4,
 "nbformat_minor": 4
}
