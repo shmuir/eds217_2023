{
 "cells": [
  {
   "cell_type": "markdown",
   "metadata": {},
   "source": [
    "# Debugging with the VS code debugger\n",
    "\n",
    "![debug.png](assets/debug.png)"
   ]
  },
  {
   "cell_type": "markdown",
   "metadata": {},
   "source": [
    "When your code doesn't work as expected, you might: \n",
    "1. Use print statements\n",
    "1. Ask ChatGPT what's wrong with your code\n",
    "\n",
    "Print statements can be annoying to put all over the place and sometimes ChatGPT doesn't know. So what if you could step into your code and run it line by line, interactively, to figure out what was wrong? This is what VS code's debugger does for you. "
   ]
  },
  {
   "cell_type": "markdown",
   "metadata": {},
   "source": [
    "## Setup\n",
    "\n",
    "Get the VS code [python extension](https://marketplace.visualstudio.com/items?itemName=ms-python.python). \n",
    "1. Go to the left hand bar in VS code and click \"Extensions\" \n",
    "1. Search \"Python\"\n",
    "1. Install the extension called \"Python\" by Microsoft\n",
    "\n",
    "**Note:** VS code has a known bug where sometimes the `Debug this cell` option disappears. If this happens, you unfortunately need to restart VS code. This is not an issue if debugging .py files though, which is likely where you'll end up using the debugger the most anyways. "
   ]
  },
  {
   "cell_type": "markdown",
   "metadata": {},
   "source": [
    "## Using the debugger\n",
    "\n",
    "We will practice using the debugger with practice 2-1, problem 4. "
   ]
  },
  {
   "cell_type": "markdown",
   "metadata": {},
   "source": [
    "First, let's check out how the debugger works by placing a `breakpoint` on the first line of the cell where we define variables and stepping through it. \n",
    "\n",
    "See how the variables appear under your `Run and Debug` tab, and try using the `Debug Console` to print or manipulate the varibles as you step throught the code. "
   ]
  },
  {
   "cell_type": "code",
   "execution_count": 1,
   "metadata": {},
   "outputs": [],
   "source": [
    "# Import numpy for mean calculations\n",
    "import numpy as np\n",
    "\n",
    "tempF_2015 = [61.628, 61.7, 61.808, 61.448, 61.52, 61.538, 61.394, 61.52, 61.61, 62.042, 61.988, 62.168]\n",
    "tempF_2016 = [62.186, 62.546, 62.528, 62.06, 61.79, 61.52, 61.61, 61.916, 61.718, 61.682, 61.736, 61.628]\n",
    "tempF_2017 = [61.916, 62.132, 62.168, 61.772, 61.718, 61.376, 61.556, 61.646, 61.466, 61.7, 61.664, 61.754]\n",
    "tempF_2018 = [61.556, 61.61, 61.664, 61.682, 61.556, 61.466, 61.556, 61.448, 61.52, 61.916, 61.556, 61.718]\n",
    "tempF_2019 = [61.754, 61.79, 62.186, 61.898, 61.61, 61.7, 61.772, 61.79, 61.754, 61.898, 61.862, 62.042]\n",
    "tempF_2020 = [62.186, 62.312, 62.186, 62.114, 61.898, 61.736, 61.7, 61.646, 61.862, 61.664, 62.06, 61.538]\n",
    "tempF_2021 = [61.538, 61.232, 61.664, 61.43, 61.484, 61.592, 61.736, 61.556, 61.736, 61.88, 61.772, 61.61]\n",
    "\n",
    "# List of yearly lists (may or may not be useful)\n",
    "tempF_list = [tempF_2015, tempF_2016, tempF_2017, tempF_2018, tempF_2019, tempF_2020, tempF_2021]\n",
    "\n",
    "# List of years (probably useful)\n",
    "years = [2015, 2016, 2017, 2018, 2019, 2020, 2021]"
   ]
  },
  {
   "cell_type": "markdown",
   "metadata": {},
   "source": [
    "Being able to walk through code line by line is especially helpful when you can step into loops or functions that you would otherwise need print statements to see what is happening inside of. \n",
    "\n",
    "Try placing a `breakpoint` on the first line and seeing how the variables change when you step through this for loop. "
   ]
  },
  {
   "cell_type": "code",
   "execution_count": 3,
   "metadata": {},
   "outputs": [
    {
     "name": "stdout",
     "output_type": "stream",
     "text": [
      "[61.628, 61.7, 61.808, 61.448, 61.52, 61.538, 61.394, 61.52, 61.61, 62.042, 61.988, 62.168]\n",
      "2015 temperatures: [61.628, 61.7, 61.808, 61.448, 61.52, 61.538, 61.394, 61.52, 61.61, 62.042, 61.988, 62.168]\n",
      "2016 temperatures: [62.186, 62.546, 62.528, 62.06, 61.79, 61.52, 61.61, 61.916, 61.718, 61.682, 61.736, 61.628]\n",
      "2017 temperatures: [61.916, 62.132, 62.168, 61.772, 61.718, 61.376, 61.556, 61.646, 61.466, 61.7, 61.664, 61.754]\n",
      "2018 temperatures: [61.556, 61.61, 61.664, 61.682, 61.556, 61.466, 61.556, 61.448, 61.52, 61.916, 61.556, 61.718]\n",
      "2019 temperatures: [61.754, 61.79, 62.186, 61.898, 61.61, 61.7, 61.772, 61.79, 61.754, 61.898, 61.862, 62.042]\n",
      "2020 temperatures: [62.186, 62.312, 62.186, 62.114, 61.898, 61.736, 61.7, 61.646, 61.862, 61.664, 62.06, 61.538]\n",
      "2021 temperatures: [61.538, 61.232, 61.664, 61.43, 61.484, 61.592, 61.736, 61.556, 61.736, 61.88, 61.772, 61.61]\n"
     ]
    }
   ],
   "source": [
    "for tempF_year,year in zip(tempF_list,years):\n",
    "    print(f\"{year} temperatures: {tempF_year}\")"
   ]
  },
  {
   "cell_type": "markdown",
   "metadata": {},
   "source": [
    "Now let's try debugging some code. Suppose your friend has written some code to solve problem 4a but is running into an error. Let's try using the debugger to fix it: \n",
    "\n",
    "\n",
    "**Practice 2-1 problem 4a:** Calculate the monthly global temperature anomalies (deviation from the mean) in °C for 2015-2021. The mean global land-ocean surface temperature calculated over the 20th century was 15.6°C. "
   ]
  },
  {
   "cell_type": "code",
   "execution_count": 2,
   "metadata": {},
   "outputs": [
    {
     "name": "stdout",
     "output_type": "stream",
     "text": [
      "28.25022222222222\n"
     ]
    },
    {
     "ename": "AttributeError",
     "evalue": "'float' object has no attribute 'append'",
     "output_type": "error",
     "traceback": [
      "\u001b[0;31m---------------------------------------------------------------------------\u001b[0m",
      "\u001b[0;31mAttributeError\u001b[0m                            Traceback (most recent call last)",
      "Cell \u001b[0;32mIn[2], line 17\u001b[0m\n\u001b[1;32m     15\u001b[0m     anomC \u001b[39m=\u001b[39m tempC \u001b[39m-\u001b[39m \u001b[39m15.6\u001b[39m\n\u001b[1;32m     16\u001b[0m     \u001b[39m# Append to anomC\u001b[39;00m\n\u001b[0;32m---> 17\u001b[0m     anomC\u001b[39m.\u001b[39;49mappend(\u001b[39mround\u001b[39m(anomC,\u001b[39m2\u001b[39m))\n\u001b[1;32m     18\u001b[0m \u001b[39m# Add list of anomalies in °C to anomC_list (list of lists)\u001b[39;00m\n\u001b[1;32m     19\u001b[0m anomC_list\u001b[39m.\u001b[39mappend(anomC)\n",
      "\u001b[0;31mAttributeError\u001b[0m: 'float' object has no attribute 'append'"
     ]
    }
   ],
   "source": [
    "# 4a. Monthly temperature anomalies\n",
    "\n",
    "# Innitialize a list of yearly lists of anomalies in °C\n",
    "anomC_list = [] \n",
    "\n",
    "# Iterate through yearly lists\n",
    "for tempsF in tempF_list:\n",
    "    # Empty list for a single year\n",
    "    anomC = []\n",
    "    # Iterate through a single year\n",
    "    for tempF in tempsF:\n",
    "        # Convert temp from F to C\n",
    "        tempC = tempF - 32.0 * (5/9)\n",
    "        # Calculate temp anomaly in °C\n",
    "        anomC = tempC - 15.6\n",
    "        # Append to anomC\n",
    "        anomC.append(round(anomC,2))\n",
    "    # Add list of anomalies in °C to anomC_list (list of lists)\n",
    "    anomC_list.append(anomC)\n",
    "\n",
    "for anom_list,year in zip(anomC_list,years):\n",
    "    print(f\"{year} anomalies: {anom_list}\")"
   ]
  },
  {
   "cell_type": "markdown",
   "metadata": {},
   "source": [
    "Now you try it on your own. Try using the debugger to debug the following answer to question 4b: \n",
    "\n",
    "Create a new list with the mean monthly global surface temperature anomalies in °C for 2015-2023 (i.e. calculate the mean temperature anomaly for each month and put these values in a list)."
   ]
  },
  {
   "cell_type": "code",
   "execution_count": 23,
   "metadata": {},
   "outputs": [],
   "source": [
    "# 4b. Mean monthly temperature anomaly, 2015-2021\n",
    "\n",
    "# Empty list for monthly mean temperature anomalies\n",
    "monthly_means = []\n",
    "# Set up generic counter loop with 12 iterations\n",
    "for i in range(12 + 1):\n",
    "    # Generate list of temperature anomalies for each month by extracting the ith value from each sublist.\n",
    "    monthly = []\n",
    "    # generate a list of anomalies for month i with anomalies from all years in it\n",
    "    for anom in anomC_list:\n",
    "        # get the ith anomaly (ith month) from each year list\n",
    "        monthly.append(anoms[i + 1])\n",
    "    # Calculate mean for month i\n",
    "    monthly_mean = np.sum(monthly)\n",
    "    # Add mean for month i to list of means\n",
    "    monthly_means.append(round(monthly_means,4))\n",
    "\n",
    "# Print list of mean monthly temperature anomalies, 2015-2018.\n",
    "print(f\"monthly_means: {monthly_means}\")"
   ]
  }
 ],
 "metadata": {
  "kernelspec": {
   "display_name": "eds217_2023",
   "language": "python",
   "name": "python3"
  },
  "language_info": {
   "codemirror_mode": {
    "name": "ipython",
    "version": 3
   },
   "file_extension": ".py",
   "mimetype": "text/x-python",
   "name": "python",
   "nbconvert_exporter": "python",
   "pygments_lexer": "ipython3",
   "version": "3.10.12"
  },
  "orig_nbformat": 4
 },
 "nbformat": 4,
 "nbformat_minor": 2
}
